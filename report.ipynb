{
 "cells": [
  {
   "cell_type": "markdown",
   "metadata": {},
   "source": [
    "### Findings"
   ]
  },
  {
   "cell_type": "markdown",
   "metadata": {},
   "source": [
    "#### 1. Time-series Model"
   ]
  },
  {
   "cell_type": "markdown",
   "metadata": {},
   "source": [
    "Based on ARMA and ARIMA model, the CAD/JPY return is expected to be negative and JPY is forecasted to depreciate in the near future (next 5 days). Additionally, Japan yen's volatility is expected to increase. However, based on the model summaries, there are insiginificant terms in model. Other time-series model could be looked into (e.g. ARMA(1,1))"
   ]
  },
  {
   "cell_type": "markdown",
   "metadata": {},
   "source": [
    "#### 2. Regression Model"
   ]
  },
  {
   "cell_type": "markdown",
   "metadata": {},
   "source": [
    "This model performs better on out-of-sample data as its RMSE (test dataset) is lower than its in-sample RMSE (train dataset), which suggest the model could be underfitting."
   ]
  }
 ],
 "metadata": {
  "language_info": {
   "name": "python"
  },
  "orig_nbformat": 4
 },
 "nbformat": 4,
 "nbformat_minor": 2
}
